{
 "cells": [
  {
   "cell_type": "code",
   "execution_count": 1,
   "id": "e6ca5c70",
   "metadata": {
    "scrolled": true
   },
   "outputs": [
    {
     "name": "stdout",
     "output_type": "stream",
     "text": [
      "Requirement already satisfied: PyPDF2 in c:\\users\\physicshomeoffice\\anaconda3\\lib\\site-packages (2.10.5)\n",
      "Requirement already satisfied: typing-extensions>=3.10.0.0 in c:\\users\\physicshomeoffice\\anaconda3\\lib\\site-packages (from PyPDF2) (4.1.1)\n",
      "Requirement already satisfied: pymysql in c:\\users\\physicshomeoffice\\anaconda3\\lib\\site-packages (1.0.2)\n",
      "Requirement already satisfied: mysql-connector in c:\\users\\physicshomeoffice\\anaconda3\\lib\\site-packages (2.2.9)\n"
     ]
    }
   ],
   "source": [
    "## Potentially required installs: ##\n",
    "\n",
    "# Install a pip package in the current Jupyter kernel\n",
    "# Code taken from: https://jakevdp.github.io/blog/2017/12/05/installing-python-packages-from-jupyter/\n",
    "import sys\n",
    "!{sys.executable} -m pip install PyPDF2\n",
    "import sys\n",
    "!{sys.executable} -m pip install pymysql\n",
    "import sys\n",
    "!{sys.executable} -m pip install mysql-connector\n",
    "\n"
   ]
  },
  {
   "cell_type": "code",
   "execution_count": 2,
   "id": "d3f53969",
   "metadata": {},
   "outputs": [],
   "source": [
    "## Import required packages: ##\n",
    "import requests\n",
    "import json\n",
    "import math\n",
    "import numpy\n",
    "import shutil # For copying files\n",
    "import time # For waiting x seconds\n",
    "from datetime import date as dt # get todays date\n",
    "import pandas as pd\n",
    "from numpy import nan\n",
    "#import PyPDF2             # For reading PDFs\n",
    "#from pathlib import Path  # For writing/saving PDFs from requests\n",
    "import pymysql\n",
    "import mysql.connector\n",
    "import os.path # Checking whether file exists in current directory"
   ]
  },
  {
   "cell_type": "markdown",
   "id": "97f529f1",
   "metadata": {},
   "source": [
    "## Step 1 - Identify Companies Of Interest ##"
   ]
  },
  {
   "cell_type": "markdown",
   "id": "2b3ffc7a",
   "metadata": {},
   "source": [
    "**GetLocalActiveCompanies(api_key, location, numberOfPages=None)**  \n",
    "Gives basic identifying information on all active companies in a given\n",
    "location.\n",
    "\n",
    "Input - api_key, location of interest, numberOfPages of results.  \n",
    "- If numberOfPages=None then all available results will be provided.\n",
    "- The current number of results per page is 20, so 2 pages gives 40 results.  \n",
    "\n",
    "\n",
    "Output - Four lists, indexed equally.  \n",
    "- listOfCompanyNumbers - Company number.  \n",
    "- listOfCompanyNames -  Company name.  \n",
    "- listOfCompanySICCodes - All of the companies SIC codes.  \n",
    "- listOfCompanyAddresses - Companies full registered office address."
   ]
  },
  {
   "cell_type": "code",
   "execution_count": 3,
   "id": "06a05b25",
   "metadata": {},
   "outputs": [],
   "source": [
    "def APIRateLimitHandler(currentCount, maxCountLimit, waitPeriod):\n",
    "    currentCount = currentCount + 1\n",
    "    if(currentCount == maxCountLimit): \n",
    "        time.sleep(waitPeriod + 30)\n",
    "        currentCount = 0\n",
    "    return currentCount"
   ]
  },
  {
   "cell_type": "code",
   "execution_count": 4,
   "id": "bb7ebfdd",
   "metadata": {},
   "outputs": [],
   "source": [
    "def GetLocalActiveCompanies(api_key, location, currentRequestCount, maxCountLimit, waitPeriod, numberOfPages=None): \n",
    "\n",
    "    url = \"https://api.company-information.service.gov.uk/advanced-search/companies?location=\"+ location +\"&company_status=active\"\n",
    "    response = requests.get(url,auth=(api_key,''))\n",
    "    currentRequestCount = APIRateLimitHandler(currentRequestCount, maxCountLimit, waitPeriod)\n",
    "    jsonSearchResult = response.text\n",
    "    searchResult = json.JSONDecoder().decode(jsonSearchResult)\n",
    "    \n",
    "    hits = searchResult[\"hits\"] \n",
    "    itemsPerPage = 20\n",
    "    if numberOfPages==None: numberOfPages = math.ceil(hits/itemsPerPage)\n",
    "\n",
    "    listOfCompanyNumbers = []\n",
    "    listOfCompanyNames = []\n",
    "    listOfCompanyAddresses = []\n",
    "    listOfCompanySICCodes = []\n",
    "\n",
    "    for page in range(0,numberOfPages):\n",
    "        pageStartIndex = page * itemsPerPage\n",
    "        url = \"https://api.company-information.service.gov.uk/advanced-search/companies?location=\"+ location +\"&company_status=active&start_index=\"+str(pageStartIndex)\n",
    "\n",
    "        response = requests.get(url,auth=(api_key,''))\n",
    "        currentRequestCount = APIRateLimitHandler(currentRequestCount, maxCountLimit, waitPeriod)\n",
    "        jsonSearchResult = response.text\n",
    "        searchResult = json.JSONDecoder().decode(jsonSearchResult)\n",
    "        companies = searchResult[\"items\"]\n",
    "    \n",
    "        for company in companies:\n",
    "            try:\n",
    "                listOfCompanyNumbers.append(company[\"company_number\"])\n",
    "            except KeyError:\n",
    "                listOfCompanyNumbers.append(None)\n",
    "                \n",
    "            try:\n",
    "                listOfCompanyNames.append(company[\"company_name\"])\n",
    "            except KeyError:\n",
    "                listOfCompanyNames.append(None)\n",
    "            \n",
    "            try:\n",
    "                listOfCompanySICCodes.append(company[\"sic_codes\"])\n",
    "            except KeyError:\n",
    "                listOfCompanySICCodes.append(None)\n",
    "                \n",
    "            try:\n",
    "                addressAsDictionary = (company[\"registered_office_address\"])\n",
    "                registeredOfficeAddress = \"\"\n",
    "                if \"address_line_1\" in addressAsDictionary: registeredOfficeAddress = registeredOfficeAddress + addressAsDictionary[\"address_line_1\"]\n",
    "                if \"address_line_2\" in addressAsDictionary: registeredOfficeAddress = registeredOfficeAddress + \", \" + addressAsDictionary[\"address_line_2\"]\n",
    "                if \"locality\" in addressAsDictionary: registeredOfficeAddress = registeredOfficeAddress + \", \" + addressAsDictionary[\"locality\"]\n",
    "                if \"postal_code\" in addressAsDictionary: registeredOfficeAddress = registeredOfficeAddress + \", \" + addressAsDictionary[\"postal_code\"]\n",
    "                if \"country\" in addressAsDictionary: registeredOfficeAddress = registeredOfficeAddress + \", \" + addressAsDictionary[\"country\"]\n",
    "                listOfCompanyAddresses.append(registeredOfficeAddress)\n",
    "            except KeyError:\n",
    "                listOfCompanyAddresses.append(None)\n",
    "    \n",
    "    return listOfCompanyNumbers, listOfCompanyNames, listOfCompanySICCodes, listOfCompanyAddresses, currentRequestCount"
   ]
  },
  {
   "cell_type": "markdown",
   "id": "77c3abaa",
   "metadata": {},
   "source": [
    "**Using GetLocalActiveCompanies:**"
   ]
  },
  {
   "cell_type": "code",
   "execution_count": 5,
   "id": "3629fb14",
   "metadata": {
    "scrolled": true
   },
   "outputs": [
    {
     "name": "stdout",
     "output_type": "stream",
     "text": [
      "\n",
      " Company numbers were: \n",
      "\n",
      "['12759132', 'OC307349', '09641796', '09644485', '09674522', '09678896', '12542329', '12543573', '12546295', '12547731', '12562964', '12572217', '12576588', '12045733', '12046076', '12065560', '12166537', '12192465', '12200775', '12212399', '12216547', '11903225', '12385414', '12617191', '12643503', '12328611', '12461501', '10276734', '10677806', '10688778', '10688865', '10707932', '10745290', '10495409', '10802324', '10813861', '10550518', '10331304', '12677620', '12696180']\n",
      "\n",
      " Company names were: \n",
      "\n",
      "['SWND LTD', 'JOHN COLLINS & PARTNERS LLP', 'TYCHO PICTURES LIMITED', 'KYARA LIMITED', 'GARDEN VILLAGE STORES LIMITED', 'ACE RENTALS LIMITED', 'DSL TECHNICAL ENGINEERING LTD', 'FIRSTLINE RESIN FLOORING LIMITED', 'RDN GROUP LIMITED', 'KARUNA MARINE UK LTD', 'FLENAGER LTD', 'TITAN EQUINE LIMITED', 'SKETTY PIZZA HOUSE LIMITED', 'DRAW CONSTRUCTION (WALES) LIMITED', 'VENTURE WISE CONSULTANCY LTD', 'NATURIOL GRATES LTD', 'DCMEMARKETING LTD', 'CJL CONSTRUCTION SOLUTIONS LIMITED', 'BLU THOMAS MEDICAL LTD', 'SOUL FIRE PROJECT CIC', 'ABCD DEVELOPMENTS LTD', 'GOODNESS GROUP LIMITED', 'HOW TO GET S*** DONE LIMITED', 'BG ENGINEERING SYSTEMS LTD', 'NAVARRA HOLDINGS LTD', 'MORTGAGES 365 LIMITED', 'EDEN EVENTS SWANSEA LTD', 'NSL EDUCATION LIMITED', 'S P (SWANSEA) LIMITED', 'ABERNETHY FREEHOLD LIMITED', 'NEWTON BARNES JOINERY LTD', 'LYNCH SCAFFOLDING SYSTEM LIMITED', 'ECHO WIZZARDARY LIMITED', 'TB PROPERTY DEVELOPMENTS (PLYMOUTH) LIMITED', 'ARCHITECTURAL DESIGN SERVICES (SWANSEA) LIMITED', 'FRIENDS FOR YOU LIMITED', 'FLOOD CONSULT INTERNATIONAL LIMITED', 'BLACKSTONE TRADING CORPORATION LTD', 'CHIC UNIQUE LTD', 'UPGRADE PROPERTY LIMITED']\n",
      "\n",
      " Company SIC codes were: \n",
      "\n",
      "[['90020'], None, ['59111'], ['74909'], ['47110'], ['77299'], ['33200'], ['43330'], ['64209'], ['09100', '70229'], ['62012'], ['62090'], ['56103'], ['81300'], ['96090'], ['23990'], ['68100', '68209'], ['70229'], ['32500'], ['02100', '85590', '86900', '96040'], ['68209'], ['99999'], ['70229'], ['25110'], ['56102'], ['64922'], ['56210', '74100'], ['85600'], ['64209'], ['68100', '98000'], ['43320'], ['43999'], ['43999'], ['41100'], ['74100'], ['88100'], ['74901'], ['45112'], ['47910'], ['68209']]\n",
      "\n",
      " Company addresses were: \n",
      "\n",
      "['88 Heol Gerrig Treboeth, Swansea, SA5 9BP, Wales', 'Venture Court Waterside Business Park Valley Way, Enterprise Park, Swansea, SA6 8QP', '77 Fford Ger Y Llyn, Tircoed Forest Village, 77 Fford Ger Y Llyn, Tircoed Forest Village, Penllergaer, Swansea, SA4 9ZJ, Wales', 'Oystermouth House Charter Court, Phoenix Way, Swansea Enterprise Park, Swansea, SA7 9FS, Wales', '94 Swansea Road, Garden Village, Goresinon, SA4 4HQ, Wales', '4 High Street, Pontardawe, SA8 4HU', '32 32 Cambridge Road, Langland, Swansea, SA3 4PQ, Wales', 'C/O Bevan Buckland Llp Ground Floor    Cardigan House, Castle Court    Swansea Enterprise Park, Swansea, SA7 9LA, Wales', 'Unit 4-5 Bell Court Felinfach, Fforestfach, Swansea, SA5 4HP, Wales', '48 Mumbles Road, Blackpill, Swansea, SA3 5AU, Wales', '80 New Cut Road, Swansea, SA1 2DL, Wales', '11 Calvert Terrace, Swansea, SA1 6AT, United Kingdom', '18 Park Way, Sketty, SA2 8JJ, United Kingdom', 'Avc House, 21 Northampton Lane, Swansea, SA1 4EH, Wales', '5 Prospect Place, 5 Prospect Place, Swansea, SA1 1QP, United Kingdom', '8 Axis Court Riverside Business Park, Swansea Vale, Swansea, SA7 0AJ, Wales', 'Tudor Gables Park Road, Ynystawe, Swansea, SA6 5AP, Wales', '22 Ffordd Melyn Mair, Llansamlet, Swansea, SA7 9WS, Wales', 'Alloy House Tawe Terrace, Pontardawe, Swansea, SA8 4HA, Wales', '31 Dyffryn Road, Gorseinon, Swansea, SA4 6BB, United Kingdom', '8 Axis Court Mallard Way, Riverside Business Park, Swansea, SA7 0AJ, Wales', 'Managers Flat Managers Flat Homegower House, St Helens Road, Swansea, SA1 4DH, United Kingdom', '43 Withy Park, Bishopston, Swansea, SA3 3EY, Wales', 'Unit 8a 66-70 Morfa Road, Swansea, SA1 2EF, Wales', '4 Gwydr Crescent, Uplands, Swansea, SA2 0AA, Wales', '3 Glengower Close, Mumbles, Swansea, SA3 5SU, Wales', '89 Herbert Thomas Way, Birchgrove, Swansea, SA7 0HH, Wales', '22 Eastlands Park, Bishopston, Swansea, SA3 3DQ, United Kingdom', '78 Langland Bay Road, Langland, Swansea, SA3 4QR, United Kingdom', 'Brookvale, Ilston, Swansea, SA2 7LD', '65 Newton Road, Mumbles, Swansea, SA3 4BL, Wales', '8 Axis Court Mallard Way, Riverside Business Park, Swansea, SA7 0AJ, Wales', '117a Pentremalwed Road, Morriston, Swansea, SA6 7BP, Wales', '11 Calvert Terrace, Swansea, SA1 6AT, United Kingdom', 'Hawthorne Villa 3 Glanymor Lane, Loughor, Swansea, SA4 6RW, United Kingdom', '11-9a Princess House Princess Way, Swansea, SA1 3LW', '18 Tirmynydd Road, Three Crosses, Swansea, SA4 3PD, Wales', '982 Carmarthen Road, Fforestfach, Swansea, SA5 4AE, Wales', '4 Clos Rhandir, Loughor, Swansea, SA4 6UF, Wales', '46 Ewenny Place, Clase, Swansea, SA6 7JZ, Wales']\n",
      "\n",
      " The number of results was: \n",
      "\n",
      "40\n"
     ]
    }
   ],
   "source": [
    "api_key = \"5ef9b7c0-60f2-4fd4-b88b-083e640f6c2a\"\n",
    "location = \"Swansea\"\n",
    "currentRequestCount = 0\n",
    "maxCountLimit = 599 \n",
    "waitPeriod = 300\n",
    "numberOfPages=2\n",
    "listOfCompanyNumbers, listOfCompanyNames, listOfCompanySICCodes, listOfCompanyAddresses, currentRequestCount = GetLocalActiveCompanies(api_key, location, currentRequestCount, maxCountLimit, waitPeriod, numberOfPages)\n",
    "\n",
    "print(\"\\n Company numbers were: \\n\")\n",
    "print(listOfCompanyNumbers)\n",
    "print(\"\\n Company names were: \\n\")\n",
    "print(listOfCompanyNames)\n",
    "print(\"\\n Company SIC codes were: \\n\")\n",
    "print(listOfCompanySICCodes)\n",
    "print(\"\\n Company addresses were: \\n\")\n",
    "print(listOfCompanyAddresses)\n",
    "\n",
    "print(\"\\n The number of results was: \\n\")\n",
    "print(len(listOfCompanyNumbers))\n",
    "\n"
   ]
  },
  {
   "cell_type": "code",
   "execution_count": 6,
   "id": "a7bb91aa",
   "metadata": {},
   "outputs": [],
   "source": [
    "def FormatPostcode(postcode):\n",
    "    formattedPostcode = \"\"\n",
    "    postcode = postcode.split()\n",
    "    for i in range(len(postcode)):\n",
    "        formattedPostcode = formattedPostcode + postcode[i] \n",
    "        if(i==0): formattedPostcode = formattedPostcode + \" \"\n",
    "                \n",
    "    return formattedPostcode"
   ]
  },
  {
   "cell_type": "code",
   "execution_count": 7,
   "id": "c8e6b3e9",
   "metadata": {},
   "outputs": [],
   "source": [
    "def GetCompanyPostcodes(listOfCompanyAddresses):\n",
    "    listOfCompanyPostcodes = []\n",
    "    for i in range(len(listOfCompanyAddresses)):\n",
    "        address = listOfCompanyAddresses[i]\n",
    "        address = address.split(',')\n",
    "        for j in range(len(address)):\n",
    "            if((j>1) and (any(digit.isdigit() for digit in address[j]))): postcode = address[j]\n",
    "                \n",
    "        postcode = FormatPostcode(postcode)\n",
    "        listOfCompanyPostcodes.append(postcode)\n",
    "    \n",
    "    return listOfCompanyPostcodes "
   ]
  },
  {
   "cell_type": "code",
   "execution_count": 8,
   "id": "e13f614e",
   "metadata": {},
   "outputs": [],
   "source": [
    "def ProcessAddressSecondLine(streetAddress,location):\n",
    "    doIWantIt = False\n",
    "    listToCheckAgainst = ['road','street','park','Road','Street','Park','way','Way','lane','Lane']\n",
    "    for i in range(len(listToCheckAgainst)):\n",
    "        if((listToCheckAgainst[i] in streetAddress) and (streetAddress!=location)): doIWantIt = True\n",
    "            \n",
    "    return doIWantIt"
   ]
  },
  {
   "cell_type": "code",
   "execution_count": 9,
   "id": "273279e4",
   "metadata": {},
   "outputs": [],
   "source": [
    "def GetCompanyStreetAddress(listOfCompanyAddresses, location):\n",
    "    listOfCompanyStreetAddress = []\n",
    "    for i in range(len(listOfCompanyAddresses)):\n",
    "        address = listOfCompanyAddresses[i]\n",
    "        address = address.split(',')\n",
    "        streetAddress = \"\"\n",
    "        for j in range(len(address)):\n",
    "            if(j==0): streetAddress = streetAddress + address[j]\n",
    "            if((j==1) and (any(digit.isdigit() for digit in address[j])) and (ProcessAddressSecondLine(address[j],location))): \n",
    "                streetAddress = streetAddress + \" \" + address[j]\n",
    "                \n",
    "\n",
    "        listOfCompanyStreetAddress.append(streetAddress)\n",
    "    \n",
    "    return listOfCompanyStreetAddress "
   ]
  },
  {
   "cell_type": "code",
   "execution_count": 10,
   "id": "c3e52a96",
   "metadata": {},
   "outputs": [
    {
     "name": "stdout",
     "output_type": "stream",
     "text": [
      "['SA5 9BP', 'SA6 8QP', 'SA4 9ZJ', 'SA7 9FS', 'SA4 4HQ', 'SA8 4HU', 'SA3 4PQ', 'SA7 9LA', 'SA5 4HP', 'SA3 5AU', 'SA1 2DL', 'SA1 6AT', 'SA2 8JJ', 'SA1 4EH', 'SA1 1QP', 'SA7 0AJ', 'SA6 5AP', 'SA7 9WS', 'SA8 4HA', 'SA4 6BB', 'SA7 0AJ', 'SA1 4DH', 'SA3 3EY', 'SA1 2EF', 'SA2 0AA', 'SA3 5SU', 'SA7 0HH', 'SA3 3DQ', 'SA3 4QR', 'SA2 7LD', 'SA3 4BL', 'SA7 0AJ', 'SA6 7BP', 'SA1 6AT', 'SA4 6RW', 'SA1 3LW', 'SA4 3PD', 'SA5 4AE', 'SA4 6UF', 'SA6 7JZ']\n",
      "40\n",
      "['88 Heol Gerrig Treboeth', 'Venture Court Waterside Business Park Valley Way', '77 Fford Ger Y Llyn', 'Oystermouth House Charter Court', '94 Swansea Road', '4 High Street', '32 32 Cambridge Road', 'C/O Bevan Buckland Llp Ground Floor    Cardigan House', 'Unit 4-5 Bell Court Felinfach', '48 Mumbles Road', '80 New Cut Road', '11 Calvert Terrace', '18 Park Way', 'Avc House  21 Northampton Lane', '5 Prospect Place', '8 Axis Court Riverside Business Park', 'Tudor Gables Park Road', '22 Ffordd Melyn Mair', 'Alloy House Tawe Terrace', '31 Dyffryn Road', '8 Axis Court Mallard Way', 'Managers Flat Managers Flat Homegower House', '43 Withy Park', 'Unit 8a 66-70 Morfa Road', '4 Gwydr Crescent', '3 Glengower Close', '89 Herbert Thomas Way', '22 Eastlands Park', '78 Langland Bay Road', 'Brookvale', '65 Newton Road', '8 Axis Court Mallard Way', '117a Pentremalwed Road', '11 Calvert Terrace', 'Hawthorne Villa 3 Glanymor Lane', '11-9a Princess House Princess Way', '18 Tirmynydd Road', '982 Carmarthen Road', '4 Clos Rhandir', '46 Ewenny Place']\n",
      "40\n"
     ]
    }
   ],
   "source": [
    "listOfCompanyPostcodes = GetCompanyPostcodes(listOfCompanyAddresses)\n",
    "print(listOfCompanyPostcodes)\n",
    "print(len(listOfCompanyPostcodes))\n",
    "listOfCompanyStreetAddress = GetCompanyStreetAddress(listOfCompanyAddresses, location)\n",
    "print(listOfCompanyStreetAddress)\n",
    "print(len(listOfCompanyStreetAddress))"
   ]
  },
  {
   "cell_type": "markdown",
   "id": "067e5030",
   "metadata": {},
   "source": [
    "## Step 2 - Profile Each Company ##"
   ]
  },
  {
   "cell_type": "markdown",
   "id": "14e0e250",
   "metadata": {},
   "source": [
    "**RequestProfile(api_key, companyNumber)**  \n",
    "Uses the company profile resource (within public data API) to get basic information on the date of company creation and company type. These peices of information are then extracted from the returned JSON object using the functions GetCompanyDateOfBirth and GetCompanyType.\n",
    "\n",
    "Input - api_key, companyNumber. \n",
    "- api_key - Use your own.\n",
    "- companyNumber - The unique ID number for the company of interest. These are obtained using the function GetLocalActiveCompanies.\n",
    " \n",
    "Output - searchResult.  \n",
    "- A JSON ojbect, which is then inspected for the required information by the associated aforementioned functions."
   ]
  },
  {
   "cell_type": "code",
   "execution_count": 11,
   "id": "aa8c7520",
   "metadata": {},
   "outputs": [],
   "source": [
    "def RequestProfile(api_key, companyNumber, currentRequestCount, maxCountLimit, waitPeriod):\n",
    "    \n",
    "    url = \"https://api.company-information.service.gov.uk/company/{}\"\n",
    "    response = requests.get(url.format(companyNumber),auth=(api_key,''))\n",
    "    currentRequestCount = APIRateLimitHandler(currentRequestCount, maxCountLimit, waitPeriod)\n",
    "    jsonSearchResult = response.text\n",
    "    searchResult = json.JSONDecoder().decode(jsonSearchResult)\n",
    "\n",
    "    return searchResult, currentRequestCount"
   ]
  },
  {
   "cell_type": "code",
   "execution_count": 12,
   "id": "de510b06",
   "metadata": {},
   "outputs": [],
   "source": [
    "def GetCompanyDateOfBirth(companyProfile):\n",
    "    dateOfCompanyCreation = companyProfile['date_of_creation']\n",
    "    return dateOfCompanyCreation"
   ]
  },
  {
   "cell_type": "code",
   "execution_count": 13,
   "id": "20bf38b1",
   "metadata": {},
   "outputs": [],
   "source": [
    "def GetCompanyType(companyProfile):\n",
    "    companyType = companyProfile['type']\n",
    "    return companyType"
   ]
  },
  {
   "cell_type": "markdown",
   "id": "7b481736",
   "metadata": {},
   "source": [
    "**Using RequestProfile, GetCompanyDateOfBirth and GetCompanyType**"
   ]
  },
  {
   "cell_type": "code",
   "execution_count": 14,
   "id": "c053e795",
   "metadata": {},
   "outputs": [
    {
     "name": "stdout",
     "output_type": "stream",
     "text": [
      "\n",
      "The date Of Company Creation was: \n",
      "\n",
      "2019-08-06\n",
      "\n",
      "The company type was: \n",
      "\n",
      "ltd\n",
      "\n",
      "The profile info contains: \n",
      "\n",
      "{'links': {'filing_history': '/company/12141111/filing-history', 'persons_with_significant_control': '/company/12141111/persons-with-significant-control', 'self': '/company/12141111', 'officers': '/company/12141111/officers'}, 'etag': '0bc04c21c9af64c87c623093cd2762b6553207cb', 'company_name': 'LATEST MARKETING SOLUTIONS LTD', 'jurisdiction': 'england-wales', 'registered_office_is_in_dispute': False, 'company_status': 'active', 'has_insolvency_history': False, 'accounts': {'next_made_up_to': '2022-08-31', 'overdue': False, 'next_accounts': {'period_start_on': '2021-09-01', 'overdue': False, 'period_end_on': '2022-08-31', 'due_on': '2023-05-31'}, 'next_due': '2023-05-31', 'accounting_reference_date': {'month': '08', 'day': '31'}, 'last_accounts': {'period_start_on': '2020-09-01', 'made_up_to': '2021-08-31', 'period_end_on': '2021-08-31', 'type': 'dormant'}}, 'has_charges': False, 'date_of_creation': '2019-08-06', 'sic_codes': ['73110'], 'confirmation_statement': {'overdue': False, 'next_due': '2023-08-19', 'next_made_up_to': '2023-08-05', 'last_made_up_to': '2022-08-05'}, 'registered_office_address': {'country': 'England', 'address_line_1': '20-22 Wenlock Road', 'postal_code': 'N1 7GU', 'locality': 'London'}, 'type': 'ltd', 'undeliverable_registered_office_address': False, 'company_number': '12141111', 'has_super_secure_pscs': False, 'can_file': True}\n"
     ]
    }
   ],
   "source": [
    "companyNumber = \"12141111\"\n",
    "api_key = \"5ef9b7c0-60f2-4fd4-b88b-083e640f6c2a\"\n",
    "currentRequestCount = 0\n",
    "maxCountLimit = 599 \n",
    "waitPeriod = 300\n",
    "companyProfile, currentRequestCount = RequestProfile(api_key, companyNumber, currentRequestCount, maxCountLimit, waitPeriod)\n",
    "\n",
    "dateOfCompanyCreation = GetCompanyDateOfBirth(companyProfile)\n",
    "print(\"\\nThe date Of Company Creation was: \\n\")\n",
    "print(dateOfCompanyCreation)\n",
    "\n",
    "companyType = GetCompanyType(companyProfile)\n",
    "print(\"\\nThe company type was: \\n\")\n",
    "print(companyType)\n",
    "\n",
    "print(\"\\nThe profile info contains: \\n\")\n",
    "print(companyProfile)"
   ]
  },
  {
   "cell_type": "markdown",
   "id": "fe196a86",
   "metadata": {},
   "source": [
    "**GetIDsForAnyDocumentType(api_key, companyNumber, docType, numberOfDocuments=None)**  \n",
    "Returns the transaction IDs for filed company documents, along with the corresponding document IDs. These can then be used with the Filing History API to download those documents for inspection and further analysis.\n",
    "\n",
    "Input - api_key, companyNumber, docType, numberOfDocuments in your results.  \n",
    "- The docType can be accounts, confirmation statement, etc. The documentation on these types can be found at: https://developer-specs.company-information.service.gov.uk/companies-house-public-data-api/resources/filinghistorylist?v=latest .\n",
    "- If numberOfDocuments=None then all available results will be provided.\n",
    "- The results are chronologically ordered with the most recent results first. Thus if you request 3 results of type \"confirmation-statement\", they will be the 3 most recent confirmation statements, i.e. those from the previous 3 years.\n",
    " \n",
    "\n",
    "\n",
    "Output - A list containing the requested transaction IDs.  \n",
    "- listOfTransactionIDs - Transaction IDs for the requested number of the (most recent) document type of interest.\n",
    "- listOfDocumentIDs - The corresponding document IDs."
   ]
  },
  {
   "cell_type": "code",
   "execution_count": 15,
   "id": "93a85f82",
   "metadata": {},
   "outputs": [],
   "source": [
    "def GetIDsForAnyDocumentType(api_key, companyNumber, docType, currentRequestCount, maxCountLimit, waitPeriod, numberOfDocuments=None): \n",
    "\n",
    "    url = \"https://api.company-information.service.gov.uk/company/\" + companyNumber + \"/filing-history\"\n",
    "\n",
    "    response = requests.get(url,auth=(api_key,''))\n",
    "    currentRequestCount = APIRateLimitHandler(currentRequestCount, maxCountLimit, waitPeriod)\n",
    "    jsonSearchResult = response.text\n",
    "    searchResult = json.JSONDecoder().decode(jsonSearchResult)\n",
    "   \n",
    "    if numberOfDocuments==None: numberOfDocuments = searchResult[\"total_count\"] \n",
    "    numberOfDocumentsAvailable = searchResult[\"total_count\"] \n",
    "    itemsPerPage = searchResult[\"items_per_page\"] \n",
    "    numberOfPages = math.ceil(numberOfDocumentsAvailable/itemsPerPage)\n",
    "    \n",
    "    listOfTransactionIDs = []\n",
    "    listOfDocumentIDs = []\n",
    "    listOfDocumentDates = []\n",
    "    numberOfResultsCounter = 0\n",
    "    \n",
    "    for page in range(0,numberOfPages):\n",
    "        pageStartIndex = page * itemsPerPage\n",
    "        url = \"https://api.company-information.service.gov.uk/company/\" +companyNumber+ \"/filing-history?start_index=\"+str(pageStartIndex)\n",
    "\n",
    "        response = requests.get(url,auth=(api_key,''))\n",
    "        currentRequestCount = APIRateLimitHandler(currentRequestCount, maxCountLimit, waitPeriod)\n",
    "        jsonSearchResult = response.text\n",
    "        searchResult = json.JSONDecoder().decode(jsonSearchResult)\n",
    "        documents = searchResult[\"items\"]\n",
    "    \n",
    "        for document in documents:\n",
    "            if (document[\"category\"]==docType):\n",
    "                \n",
    "                listOfTransactionIDs.append(document[\"transaction_id\"])                \n",
    "                listOfDocumentDates.append(document[\"action_date\"])\n",
    "                \n",
    "                docIDDict = document[\"links\"] \n",
    "                urlDecompositionList = docIDDict[\"document_metadata\"].split(\"/\")\n",
    "                listOfDocumentIDs.append(urlDecompositionList[-1])\n",
    "               \n",
    "                numberOfResultsCounter = numberOfResultsCounter + 1\n",
    "                if (numberOfResultsCounter==numberOfDocuments): break\n",
    "                    \n",
    "        if (numberOfResultsCounter==numberOfDocuments): break \n",
    "        \n",
    "    return listOfTransactionIDs, listOfDocumentIDs, listOfDocumentDates, currentRequestCount\n"
   ]
  },
  {
   "cell_type": "markdown",
   "id": "6331c839",
   "metadata": {},
   "source": [
    "**Using GetIDsForAnyDocumentType:**"
   ]
  },
  {
   "cell_type": "code",
   "execution_count": 16,
   "id": "fb643e8a",
   "metadata": {},
   "outputs": [
    {
     "name": "stdout",
     "output_type": "stream",
     "text": [
      "\n",
      " The transaction IDs were: \n",
      "\n",
      "['MzM1Nzg0ODQ3M2FkaXF6a2N4', 'MzMwNDk4OTg2NWFkaXF6a2N4']\n",
      "2\n",
      "\n",
      " The document IDs were: \n",
      "\n",
      "['9zs99kJx0a5dK9-76io44DV3JYbNuvLZLEBzbWR6em0', 'rLk31M6HV8LGjkooYqMxRpUwQd_daYuUfe-kCoPCgRI']\n",
      "2\n",
      "\n",
      " The document dates were: \n",
      "\n",
      "['2022-03-31', '2021-03-31']\n",
      "2\n"
     ]
    }
   ],
   "source": [
    "api_key = \"5ef9b7c0-60f2-4fd4-b88b-083e640f6c2a\"\n",
    "companyNumber = \"07804652\"\n",
    "docType = \"accounts\"\n",
    "numberOfDocuments = 2\n",
    "currentRequestCount = 0\n",
    "maxCountLimit = 599 \n",
    "waitPeriod = 300\n",
    "\n",
    "listOfTransactionIDs, listOfDocumentIDs, listOfDocumentDates, currentRequestCount= GetIDsForAnyDocumentType(api_key, companyNumber, docType, currentRequestCount, maxCountLimit, waitPeriod, numberOfDocuments) \n",
    "\n",
    "print(\"\\n The transaction IDs were: \\n\")\n",
    "print(listOfTransactionIDs)\n",
    "print(len(listOfTransactionIDs))\n",
    "\n",
    "print(\"\\n The document IDs were: \\n\")\n",
    "print(listOfDocumentIDs)\n",
    "print(len(listOfDocumentIDs))\n",
    "\n",
    "print(\"\\n The document dates were: \\n\")\n",
    "print(listOfDocumentDates)\n",
    "print(len(listOfDocumentDates))"
   ]
  },
  {
   "cell_type": "markdown",
   "id": "021577d4",
   "metadata": {},
   "source": [
    "**GetXMLFile(api_key, documentID, documentName)**  \n",
    "Requests and saves the document associated with documentID into a file named documentName.\n",
    "\n",
    "Input - api_key, documentID, documentName. \n",
    "- api_key - Use your own. \n",
    "- documentID - The document ID for the document of interest, obtained using the function GetIDsForAnyDocumentType.\n",
    "\n",
    "Output - None \n",
    "- The file is saved into the same directory as the code is running from, i.e. the current working directory."
   ]
  },
  {
   "cell_type": "code",
   "execution_count": 17,
   "id": "84b0b605",
   "metadata": {},
   "outputs": [],
   "source": [
    "def GetXMLFile(api_key, documentID, documentName, currentRequestCount, maxCountLimit, waitPeriod):\n",
    "    url = \"https://document-api.company-information.service.gov.uk/document/\"+documentID+\"/content\"\n",
    "    requestHeaders = {'Accept': 'application/xhtml+xml'}\n",
    "    response = requests.get(url,auth=(api_key,''),headers=requestHeaders)\n",
    "    currentRequestCount = APIRateLimitHandler(currentRequestCount, maxCountLimit, waitPeriod)\n",
    "\n",
    "    with open(documentName, 'wb') as f:\n",
    "        f.write(response.content)\n",
    "    return currentRequestCount"
   ]
  },
  {
   "cell_type": "code",
   "execution_count": 18,
   "id": "bb1fa680",
   "metadata": {},
   "outputs": [],
   "source": [
    "def GetPDFFile(api_key, documentID, documentName, currentRequestCount, maxCountLimit, waitPeriod):\n",
    "    url = \"https://document-api.company-information.service.gov.uk/document/\"+documentID+\"/content\"\n",
    "    requestHeaders = {'Accept': 'application/pdf'}\n",
    "    response = requests.get(url,auth=(api_key,''),headers=requestHeaders)\n",
    "    currentRequestCount = APIRateLimitHandler(currentRequestCount, maxCountLimit, waitPeriod)\n",
    "\n",
    "    with open(documentName, 'wb') as f:\n",
    "        f.write(response.content)\n",
    "    return currentRequestCount"
   ]
  },
  {
   "cell_type": "markdown",
   "id": "38c5f397",
   "metadata": {},
   "source": [
    "**Using GetXMLFile:**  \n",
    "(Using the document ID to get the document file from the filing history API.)"
   ]
  },
  {
   "cell_type": "code",
   "execution_count": 19,
   "id": "c876020c",
   "metadata": {},
   "outputs": [],
   "source": [
    "api_key = \"5ef9b7c0-60f2-4fd4-b88b-083e640f6c2a\"\n",
    "documentID = listOfDocumentIDs[0]\n",
    "documentName = \"Accounts.txt\"\n",
    "currentRequestCount = 0\n",
    "maxCountLimit = 599 \n",
    "waitPeriod = 300\n",
    "\n",
    "currentRequestCount = GetXMLFile(api_key, documentID, documentName, currentRequestCount, maxCountLimit, waitPeriod)"
   ]
  },
  {
   "cell_type": "markdown",
   "id": "07885547",
   "metadata": {},
   "source": [
    "**GetStringFromFile(filePath, targetString1, targetString2)**  \n",
    "Returns the string of interest within the specified file. Specify the file, specify the point where the data is stored within the file, i.e. \"cash in bank\", and the subsequent line to then extract.\n",
    "\n",
    "Input - filePath, targetString1[], targetString2.  \n",
    "- filePath - the file of interest, e.g. Accounts.txt (XML file)\n",
    "- targetString1[] - the part of the text from which to begin the specific seach relating to targetString2. e.g. targetString1 = \">Cash at bank and in hand\". At this point the function will then search for the first line containing an instance of targetString2 and then returns that line.\n",
    "- targetString1 is an array and takes several search terms, since different size companies use different formats, such as with accounts, and so different search terms will be required. It will try each of them in turn.\n",
    "- targetString2 - the pattern to search for the first instance of, starting from the location of the first instance of the pattern spcified by targetString1.\n",
    " \n",
    "\n",
    "\n",
    "Output - targetLine.  \n",
    "- targetLine - The first line of text from the file that matches both the patterns specifies by targetString1 and targetString2.\n",
    "- This string can then be processed to extract the information of interest.  \n",
    "\n",
    "\n",
    "- This function is for general purpose, whenever a single line is to be extracted from a text file and can be accurately specified by the above method of using targetString1 and targetString2."
   ]
  },
  {
   "cell_type": "code",
   "execution_count": 20,
   "id": "d0208972",
   "metadata": {},
   "outputs": [],
   "source": [
    "def GetStringFromFile(filePath, targetString1, targetString2):\n",
    "    foundLine = False\n",
    "    foundSection = False\n",
    "    tryNextQuery = True\n",
    "    with open(filePath, 'r',encoding='utf-8') as file:\n",
    "        lines = file.readlines()\n",
    "        headerText = lines[0]\n",
    "        headerText = headerText.split(' ')\n",
    "        headerText = headerText[0]\n",
    "        targetLine = \"No Section Found\"\n",
    "        if(headerText!=\"<?xml\"):\n",
    "            targetLine = \"No File\"\n",
    "            tryNextQuery = False\n",
    "        targetCounter = 0\n",
    "        while (tryNextQuery==True):\n",
    "            for line in lines:\n",
    "                if ((line.find(targetString1[targetCounter])!=-1) and foundSection==False):\n",
    "                    foundSection = True\n",
    "                    tryNextQuery = False\n",
    "                    linesTried = 0\n",
    "                    currentLine = lines.index(line)\n",
    "                    while (foundLine==False and linesTried<10):     \n",
    "                        if (targetString2 in lines[currentLine]):\n",
    "                            foundLine = True\n",
    "                            targetLine = lines[currentLine]\n",
    "                        else:\n",
    "                            currentLine = currentLine + 1\n",
    "                            linesTried = linesTried + 1\n",
    "                    if(linesTried==10): \n",
    "                        targetLine = \"No Line Found\"\n",
    "                        if(targetCounter<len(targetString1)):\n",
    "                            tryNextQuery = True\n",
    "                            foundSection = False\n",
    "                            \n",
    "            targetCounter = targetCounter + 1 \n",
    "    \n",
    "    return targetLine"
   ]
  },
  {
   "cell_type": "markdown",
   "id": "fb57283c",
   "metadata": {},
   "source": [
    "**ProcessLineCashAtBank(targetLine)**  \n",
    "Returns the financial data for the cash in bank and in hand from the input string.\n",
    "\n",
    "Input - targetLine.  \n",
    "- targetLine - The string containing the financial information, obtained using the function GetStringFromFile.\n",
    " \n",
    "\n",
    "\n",
    "Output - targetValue.  \n",
    "- targetValue - The financial data for cash in bank and in hand, returned as an integer in units of GBP."
   ]
  },
  {
   "cell_type": "code",
   "execution_count": 21,
   "id": "e7d4b558",
   "metadata": {},
   "outputs": [],
   "source": [
    "def ProcessLineCashAtBank(targetLine):\n",
    "    if(targetLine==\"No File\" or targetLine==\"No Line Found\" or targetLine==\"No Section Found\"):\n",
    "        targetValue = targetLine\n",
    "    else:\n",
    "        targetValueList = targetLine.split(\">\")\n",
    "        if(targetValueList[-1]==\"\\n\"):\n",
    "            targetValueList.remove(\"\\n\")\n",
    "        if(\"</div\" in targetValueList[-1]):\n",
    "            del targetValueList[-1]\n",
    "        targetValueList = targetValueList[-1].split(\"<\")\n",
    "        targetValueList = targetValueList[0].split(\",\")\n",
    "\n",
    "        targetValue = \"\"\n",
    "        for i in range(0,len(targetValueList)):\n",
    "            targetValue = targetValue + str(targetValueList[i])\n",
    "        targetValue = int(targetValue)\n",
    "        \n",
    "    return targetValue"
   ]
  },
  {
   "cell_type": "markdown",
   "id": "03215915",
   "metadata": {},
   "source": [
    "**Using GetStringFromFile and ProcessLineCashAtBank**"
   ]
  },
  {
   "cell_type": "code",
   "execution_count": 22,
   "id": "506668d7",
   "metadata": {},
   "outputs": [
    {
     "name": "stdout",
     "output_type": "stream",
     "text": [
      "\n",
      "The cash in bank and in hand value in GBP is: \n",
      "\n",
      "21635\n",
      "<class 'int'>\n"
     ]
    }
   ],
   "source": [
    "filePath = \"Accounts.txt\"\n",
    "targetString1 = [\">Cash at bank and in hand<\",\">CAPITAL AND RESERVES<\", \"reserves\"]\n",
    "targetString2 = \"</ix:nonFraction>\" \n",
    "\n",
    "targetLine = GetStringFromFile(filePath, targetString1, targetString2)\n",
    "targetValue = ProcessLineCashAtBank(targetLine)   \n",
    "\n",
    "print(\"\\nThe cash in bank and in hand value in GBP is: \\n\")\n",
    "print(targetValue)\n",
    "print(type(targetValue))"
   ]
  },
  {
   "cell_type": "code",
   "execution_count": null,
   "id": "af18ff37",
   "metadata": {},
   "outputs": [],
   "source": []
  }
 ],
 "metadata": {
  "kernelspec": {
   "display_name": "Python 3 (ipykernel)",
   "language": "python",
   "name": "python3"
  },
  "language_info": {
   "codemirror_mode": {
    "name": "ipython",
    "version": 3
   },
   "file_extension": ".py",
   "mimetype": "text/x-python",
   "name": "python",
   "nbconvert_exporter": "python",
   "pygments_lexer": "ipython3",
   "version": "3.8.8"
  }
 },
 "nbformat": 4,
 "nbformat_minor": 5
}
