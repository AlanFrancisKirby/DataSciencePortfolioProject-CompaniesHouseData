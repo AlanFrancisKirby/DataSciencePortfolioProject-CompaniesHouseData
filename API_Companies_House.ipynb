{
 "cells": [
  {
   "cell_type": "code",
   "execution_count": null,
   "id": "e6ca5c70",
   "metadata": {
    "scrolled": true
   },
   "outputs": [],
   "source": [
    "## Potentially required installs: ##\n",
    "\n",
    "# Install a pip package in the current Jupyter kernel\n",
    "# Code taken from: https://jakevdp.github.io/blog/2017/12/05/installing-python-packages-from-jupyter/\n",
    "import sys\n",
    "!{sys.executable} -m pip install PyPDF2\n",
    "import sys\n",
    "!{sys.executable} -m pip install pymysql\n",
    "import sys\n",
    "!{sys.executable} -m pip install mysql-connector\n",
    "\n"
   ]
  },
  {
   "cell_type": "code",
   "execution_count": null,
   "id": "d3f53969",
   "metadata": {},
   "outputs": [],
   "source": [
    "## Import required packages: ##\n",
    "import requests\n",
    "import json\n",
    "import math\n",
    "import numpy\n",
    "import shutil # For copying files\n",
    "import time # For waiting x seconds\n",
    "from datetime import date as dt # get todays date\n",
    "import pandas as pd\n",
    "from numpy import nan\n",
    "#import PyPDF2             # For reading PDFs\n",
    "#from pathlib import Path  # For writing/saving PDFs from requests\n",
    "import pymysql\n",
    "import mysql.connector\n",
    "import os.path # Checking whether file exists in current directory"
   ]
  },
  {
   "cell_type": "markdown",
   "id": "97f529f1",
   "metadata": {},
   "source": [
    "## Step 1 - Identify Companies Of Interest ##"
   ]
  },
  {
   "cell_type": "markdown",
   "id": "2b3ffc7a",
   "metadata": {},
   "source": [
    "**GetLocalActiveCompanies(api_key, location, numberOfPages=None)**  \n",
    "Gives basic identifying information on all active companies in a given\n",
    "location.\n",
    "\n",
    "Input - api_key, location of interest, numberOfPages of results.  \n",
    "- If numberOfPages=None then all available results will be provided.\n",
    "- The current number of results per page is 20, so 2 pages gives 40 results.  \n",
    "\n",
    "\n",
    "Output - Four lists, indexed equally.  \n",
    "- listOfCompanyNumbers - Company number.  \n",
    "- listOfCompanyNames -  Company name.  \n",
    "- listOfCompanySICCodes - All of the companies SIC codes.  \n",
    "- listOfCompanyAddresses - Companies full registered office address."
   ]
  },
  {
   "cell_type": "code",
   "execution_count": null,
   "id": "06a05b25",
   "metadata": {},
   "outputs": [],
   "source": [
    "def APIRateLimitHandler(currentCount, maxCountLimit, waitPeriod):\n",
    "    currentCount = currentCount + 1\n",
    "    if(currentCount == maxCountLimit): \n",
    "        time.sleep(waitPeriod + 30)\n",
    "        currentCount = 0\n",
    "    return currentCount"
   ]
  },
  {
   "cell_type": "code",
   "execution_count": null,
   "id": "bb7ebfdd",
   "metadata": {},
   "outputs": [],
   "source": [
    "def GetLocalActiveCompanies(api_key, location, currentRequestCount, maxCountLimit, waitPeriod, numberOfPages=None): \n",
    "\n",
    "    url = \"https://api.company-information.service.gov.uk/advanced-search/companies?location=\"+ location +\"&company_status=active\"\n",
    "    response = requests.get(url,auth=(api_key,''))\n",
    "    currentRequestCount = APIRateLimitHandler(currentRequestCount, maxCountLimit, waitPeriod)\n",
    "    jsonSearchResult = response.text\n",
    "    searchResult = json.JSONDecoder().decode(jsonSearchResult)\n",
    "    \n",
    "    hits = searchResult[\"hits\"] \n",
    "    itemsPerPage = 20\n",
    "    if numberOfPages==None: numberOfPages = math.ceil(hits/itemsPerPage)\n",
    "\n",
    "    listOfCompanyNumbers = []\n",
    "    listOfCompanyNames = []\n",
    "    listOfCompanyAddresses = []\n",
    "    listOfCompanySICCodes = []\n",
    "\n",
    "    for page in range(0,numberOfPages):\n",
    "        pageStartIndex = page * itemsPerPage\n",
    "        url = \"https://api.company-information.service.gov.uk/advanced-search/companies?location=\"+ location +\"&company_status=active&start_index=\"+str(pageStartIndex)\n",
    "\n",
    "        response = requests.get(url,auth=(api_key,''))\n",
    "        currentRequestCount = APIRateLimitHandler(currentRequestCount, maxCountLimit, waitPeriod)\n",
    "        jsonSearchResult = response.text\n",
    "        searchResult = json.JSONDecoder().decode(jsonSearchResult)\n",
    "        companies = searchResult[\"items\"]\n",
    "    \n",
    "        for company in companies:\n",
    "            try:\n",
    "                listOfCompanyNumbers.append(company[\"company_number\"])\n",
    "            except KeyError:\n",
    "                listOfCompanyNumbers.append(None)\n",
    "                \n",
    "            try:\n",
    "                listOfCompanyNames.append(company[\"company_name\"])\n",
    "            except KeyError:\n",
    "                listOfCompanyNames.append(None)\n",
    "            \n",
    "            try:\n",
    "                listOfCompanySICCodes.append(company[\"sic_codes\"])\n",
    "            except KeyError:\n",
    "                listOfCompanySICCodes.append(None)\n",
    "                \n",
    "            try:\n",
    "                addressAsDictionary = (company[\"registered_office_address\"])\n",
    "                registeredOfficeAddress = \"\"\n",
    "                if \"address_line_1\" in addressAsDictionary: registeredOfficeAddress = registeredOfficeAddress + addressAsDictionary[\"address_line_1\"]\n",
    "                if \"address_line_2\" in addressAsDictionary: registeredOfficeAddress = registeredOfficeAddress + \", \" + addressAsDictionary[\"address_line_2\"]\n",
    "                if \"locality\" in addressAsDictionary: registeredOfficeAddress = registeredOfficeAddress + \", \" + addressAsDictionary[\"locality\"]\n",
    "                if \"postal_code\" in addressAsDictionary: registeredOfficeAddress = registeredOfficeAddress + \", \" + addressAsDictionary[\"postal_code\"]\n",
    "                if \"country\" in addressAsDictionary: registeredOfficeAddress = registeredOfficeAddress + \", \" + addressAsDictionary[\"country\"]\n",
    "                listOfCompanyAddresses.append(registeredOfficeAddress)\n",
    "            except KeyError:\n",
    "                listOfCompanyAddresses.append(None)\n",
    "    \n",
    "    return listOfCompanyNumbers, listOfCompanyNames, listOfCompanySICCodes, listOfCompanyAddresses, currentRequestCount"
   ]
  },
  {
   "cell_type": "markdown",
   "id": "77c3abaa",
   "metadata": {},
   "source": [
    "**Using GetLocalActiveCompanies:**"
   ]
  },
  {
   "cell_type": "code",
   "execution_count": null,
   "id": "3629fb14",
   "metadata": {
    "scrolled": true
   },
   "outputs": [],
   "source": [
    "api_key = \"5ef9b7c0-60f2-4fd4-b88b-083e640f6c2a\"\n",
    "location = \"Swansea\"\n",
    "currentRequestCount = 0\n",
    "maxCountLimit = 599 \n",
    "waitPeriod = 300\n",
    "numberOfPages=2\n",
    "listOfCompanyNumbers, listOfCompanyNames, listOfCompanySICCodes, listOfCompanyAddresses, currentRequestCount = GetLocalActiveCompanies(api_key, location, currentRequestCount, maxCountLimit, waitPeriod, numberOfPages)\n",
    "\n",
    "print(\"\\n Company numbers were: \\n\")\n",
    "print(listOfCompanyNumbers)\n",
    "print(\"\\n Company names were: \\n\")\n",
    "print(listOfCompanyNames)\n",
    "print(\"\\n Company SIC codes were: \\n\")\n",
    "print(listOfCompanySICCodes)\n",
    "print(\"\\n Company addresses were: \\n\")\n",
    "print(listOfCompanyAddresses)\n",
    "\n",
    "print(\"\\n The number of results was: \\n\")\n",
    "print(len(listOfCompanyNumbers))\n",
    "\n"
   ]
  },
  {
   "cell_type": "code",
   "execution_count": null,
   "id": "a7bb91aa",
   "metadata": {},
   "outputs": [],
   "source": [
    "def FormatPostcode(postcode):\n",
    "    formattedPostcode = \"\"\n",
    "    postcode = postcode.split()\n",
    "    for i in range(len(postcode)):\n",
    "        formattedPostcode = formattedPostcode + postcode[i] \n",
    "        if(i==0): formattedPostcode = formattedPostcode + \" \"\n",
    "                \n",
    "    return formattedPostcode"
   ]
  },
  {
   "cell_type": "code",
   "execution_count": null,
   "id": "c8e6b3e9",
   "metadata": {},
   "outputs": [],
   "source": [
    "def GetCompanyPostcodes(listOfCompanyAddresses):\n",
    "    listOfCompanyPostcodes = []\n",
    "    for i in range(len(listOfCompanyAddresses)):\n",
    "        address = listOfCompanyAddresses[i]\n",
    "        address = address.split(',')\n",
    "        for j in range(len(address)):\n",
    "            if((j>1) and (any(digit.isdigit() for digit in address[j]))): postcode = address[j]\n",
    "                \n",
    "        postcode = FormatPostcode(postcode)\n",
    "        listOfCompanyPostcodes.append(postcode)\n",
    "    \n",
    "    return listOfCompanyPostcodes "
   ]
  },
  {
   "cell_type": "code",
   "execution_count": null,
   "id": "e13f614e",
   "metadata": {},
   "outputs": [],
   "source": [
    "def ProcessAddressSecondLine(streetAddress,location):\n",
    "    doIWantIt = False\n",
    "    listToCheckAgainst = ['road','street','park','Road','Street','Park','way','Way','lane','Lane']\n",
    "    for i in range(len(listToCheckAgainst)):\n",
    "        if((listToCheckAgainst[i] in streetAddress) and (streetAddress!=location)): doIWantIt = True\n",
    "            \n",
    "    return doIWantIt"
   ]
  },
  {
   "cell_type": "code",
   "execution_count": null,
   "id": "273279e4",
   "metadata": {},
   "outputs": [],
   "source": [
    "def GetCompanyStreetAddress(listOfCompanyAddresses, location):\n",
    "    listOfCompanyStreetAddress = []\n",
    "    for i in range(len(listOfCompanyAddresses)):\n",
    "        address = listOfCompanyAddresses[i]\n",
    "        address = address.split(',')\n",
    "        streetAddress = \"\"\n",
    "        for j in range(len(address)):\n",
    "            if(j==0): streetAddress = streetAddress + address[j]\n",
    "            if((j==1) and (any(digit.isdigit() for digit in address[j])) and (ProcessAddressSecondLine(address[j],location))): \n",
    "                streetAddress = streetAddress + \" \" + address[j]\n",
    "                \n",
    "\n",
    "        listOfCompanyStreetAddress.append(streetAddress)\n",
    "    \n",
    "    return listOfCompanyStreetAddress "
   ]
  },
  {
   "cell_type": "code",
   "execution_count": null,
   "id": "c3e52a96",
   "metadata": {},
   "outputs": [],
   "source": [
    "listOfCompanyPostcodes = GetCompanyPostcodes(listOfCompanyAddresses)\n",
    "print(listOfCompanyPostcodes)\n",
    "print(len(listOfCompanyPostcodes))\n",
    "listOfCompanyStreetAddress = GetCompanyStreetAddress(listOfCompanyAddresses, location)\n",
    "print(listOfCompanyStreetAddress)\n",
    "print(len(listOfCompanyStreetAddress))"
   ]
  },
  {
   "cell_type": "code",
   "execution_count": null,
   "id": "42808055",
   "metadata": {},
   "outputs": [],
   "source": []
  }
 ],
 "metadata": {
  "kernelspec": {
   "display_name": "Python 3 (ipykernel)",
   "language": "python",
   "name": "python3"
  },
  "language_info": {
   "codemirror_mode": {
    "name": "ipython",
    "version": 3
   },
   "file_extension": ".py",
   "mimetype": "text/x-python",
   "name": "python",
   "nbconvert_exporter": "python",
   "pygments_lexer": "ipython3",
   "version": "3.8.8"
  }
 },
 "nbformat": 4,
 "nbformat_minor": 5
}
